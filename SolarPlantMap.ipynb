{
  "cells": [
    {
      "cell_type": "code",
      "execution_count": 5,
      "metadata": {
        "id": "F3mLjOb1QJxy"
      },
      "outputs": [],
      "source": [
        "# 한글 나눔고딕폰트 설정하기\n",
        "import matplotlib.pyplot as plt\n",
        "plt.rc('font', family='NanumBarunGothic')\n",
        "\n",
        "csvPath = '../data/JejuSolarPlant_220630.csv'"
      ]
    },
    {
      "cell_type": "code",
      "execution_count": 2,
      "metadata": {
        "id": "KgKzdLPCQ35q"
      },
      "outputs": [],
      "source": [
        "import pandas as pd\n",
        "df = pd.read_csv(csvPath, encoding='cp949')"
      ]
    },
    {
      "cell_type": "code",
      "execution_count": 3,
      "metadata": {
        "colab": {
          "base_uri": "https://localhost:8080/",
          "height": 206
        },
        "id": "Oj9U1zdNQ85R",
        "outputId": "ea2a8fe7-b927-476c-d5c4-f5f43f159f11"
      },
      "outputs": [
        {
          "data": {
            "text/html": [
              "<div>\n",
              "<style scoped>\n",
              "    .dataframe tbody tr th:only-of-type {\n",
              "        vertical-align: middle;\n",
              "    }\n",
              "\n",
              "    .dataframe tbody tr th {\n",
              "        vertical-align: top;\n",
              "    }\n",
              "\n",
              "    .dataframe thead th {\n",
              "        text-align: right;\n",
              "    }\n",
              "</style>\n",
              "<table border=\"1\" class=\"dataframe\">\n",
              "  <thead>\n",
              "    <tr style=\"text-align: right;\">\n",
              "      <th></th>\n",
              "      <th>행정시</th>\n",
              "      <th>읍면동</th>\n",
              "      <th>허가일자</th>\n",
              "      <th>상호</th>\n",
              "      <th>설비용량(KW)</th>\n",
              "      <th>상태</th>\n",
              "      <th>사업개시일</th>\n",
              "      <th>데이터기준일자</th>\n",
              "    </tr>\n",
              "  </thead>\n",
              "  <tbody>\n",
              "    <tr>\n",
              "      <th>0</th>\n",
              "      <td>제주시</td>\n",
              "      <td>구좌읍</td>\n",
              "      <td>1998-06-10</td>\n",
              "      <td>행원풍력발전단지(1차)</td>\n",
              "      <td>3480.0</td>\n",
              "      <td>사업개시</td>\n",
              "      <td>2000-04-05</td>\n",
              "      <td>2022-06-30</td>\n",
              "    </tr>\n",
              "    <tr>\n",
              "      <th>1</th>\n",
              "      <td>제주시</td>\n",
              "      <td>회천동</td>\n",
              "      <td>2002-12-09</td>\n",
              "      <td>파낙스에너지(주)</td>\n",
              "      <td>1000.0</td>\n",
              "      <td>사업개시</td>\n",
              "      <td>2002-12-18</td>\n",
              "      <td>2022-06-30</td>\n",
              "    </tr>\n",
              "    <tr>\n",
              "      <th>2</th>\n",
              "      <td>제주시</td>\n",
              "      <td>한경면</td>\n",
              "      <td>2003-04-14</td>\n",
              "      <td>한경풍력 1단계</td>\n",
              "      <td>6000.0</td>\n",
              "      <td>사업개시</td>\n",
              "      <td>2004-02-28</td>\n",
              "      <td>2022-06-30</td>\n",
              "    </tr>\n",
              "    <tr>\n",
              "      <th>3</th>\n",
              "      <td>제주시</td>\n",
              "      <td>한경면</td>\n",
              "      <td>2005-04-04</td>\n",
              "      <td>신창풍력발전단지</td>\n",
              "      <td>1700.0</td>\n",
              "      <td>사업개시</td>\n",
              "      <td>2006-03-03</td>\n",
              "      <td>2022-06-30</td>\n",
              "    </tr>\n",
              "    <tr>\n",
              "      <th>4</th>\n",
              "      <td>제주시</td>\n",
              "      <td>구좌읍</td>\n",
              "      <td>2005-08-30</td>\n",
              "      <td>제주월정풍력발전소</td>\n",
              "      <td>1500.0</td>\n",
              "      <td>사업개시</td>\n",
              "      <td>2006-07-20</td>\n",
              "      <td>2022-06-30</td>\n",
              "    </tr>\n",
              "  </tbody>\n",
              "</table>\n",
              "</div>"
            ],
            "text/plain": [
              "   행정시  읍면동        허가일자            상호  설비용량(KW)    상태       사업개시일     데이터기준일자\n",
              "0  제주시  구좌읍  1998-06-10  행원풍력발전단지(1차)    3480.0  사업개시  2000-04-05  2022-06-30\n",
              "1  제주시  회천동  2002-12-09     파낙스에너지(주)    1000.0  사업개시  2002-12-18  2022-06-30\n",
              "2  제주시  한경면  2003-04-14      한경풍력 1단계    6000.0  사업개시  2004-02-28  2022-06-30\n",
              "3  제주시  한경면  2005-04-04      신창풍력발전단지    1700.0  사업개시  2006-03-03  2022-06-30\n",
              "4  제주시  구좌읍  2005-08-30     제주월정풍력발전소    1500.0  사업개시  2006-07-20  2022-06-30"
            ]
          },
          "execution_count": 3,
          "metadata": {},
          "output_type": "execute_result"
        }
      ],
      "source": [
        "df.head()"
      ]
    },
    {
      "cell_type": "code",
      "execution_count": 6,
      "metadata": {
        "colab": {
          "base_uri": "https://localhost:8080/",
          "height": 206
        },
        "id": "_YOs9COTQ_tZ",
        "outputId": "d6781140-7b77-46ab-cf3f-b94c9ab9c740"
      },
      "outputs": [
        {
          "data": {
            "text/html": [
              "<div>\n",
              "<style scoped>\n",
              "    .dataframe tbody tr th:only-of-type {\n",
              "        vertical-align: middle;\n",
              "    }\n",
              "\n",
              "    .dataframe tbody tr th {\n",
              "        vertical-align: top;\n",
              "    }\n",
              "\n",
              "    .dataframe thead th {\n",
              "        text-align: right;\n",
              "    }\n",
              "</style>\n",
              "<table border=\"1\" class=\"dataframe\">\n",
              "  <thead>\n",
              "    <tr style=\"text-align: right;\">\n",
              "      <th></th>\n",
              "      <th>행정시</th>\n",
              "      <th>읍면동</th>\n",
              "      <th>허가일자</th>\n",
              "      <th>상호</th>\n",
              "      <th>설비용량(KW)</th>\n",
              "      <th>상태</th>\n",
              "      <th>사업개시일</th>\n",
              "      <th>데이터기준일자</th>\n",
              "    </tr>\n",
              "  </thead>\n",
              "  <tbody>\n",
              "    <tr>\n",
              "      <th>2143</th>\n",
              "      <td>제주시</td>\n",
              "      <td>한경면</td>\n",
              "      <td>2022-06-08</td>\n",
              "      <td>민재 태양광발전소</td>\n",
              "      <td>99.6</td>\n",
              "      <td>인허가</td>\n",
              "      <td>NaN</td>\n",
              "      <td>2022-06-30</td>\n",
              "    </tr>\n",
              "    <tr>\n",
              "      <th>2144</th>\n",
              "      <td>제주시</td>\n",
              "      <td>한림읍</td>\n",
              "      <td>2022-06-08</td>\n",
              "      <td>효일4호 태양광발전소</td>\n",
              "      <td>99.0</td>\n",
              "      <td>인허가</td>\n",
              "      <td>NaN</td>\n",
              "      <td>2022-06-30</td>\n",
              "    </tr>\n",
              "    <tr>\n",
              "      <th>2145</th>\n",
              "      <td>제주시</td>\n",
              "      <td>한림읍</td>\n",
              "      <td>2022-06-08</td>\n",
              "      <td>효일3호 태양광발전소</td>\n",
              "      <td>99.0</td>\n",
              "      <td>인허가</td>\n",
              "      <td>NaN</td>\n",
              "      <td>2022-06-30</td>\n",
              "    </tr>\n",
              "    <tr>\n",
              "      <th>2146</th>\n",
              "      <td>제주시</td>\n",
              "      <td>한림읍</td>\n",
              "      <td>2022-06-08</td>\n",
              "      <td>효일5호 태양광발전소</td>\n",
              "      <td>99.0</td>\n",
              "      <td>인허가</td>\n",
              "      <td>NaN</td>\n",
              "      <td>2022-06-30</td>\n",
              "    </tr>\n",
              "    <tr>\n",
              "      <th>2147</th>\n",
              "      <td>서귀포시</td>\n",
              "      <td>성산읍</td>\n",
              "      <td>2022-06-21</td>\n",
              "      <td>한라2호소수력발전소</td>\n",
              "      <td>210.0</td>\n",
              "      <td>인허가</td>\n",
              "      <td>NaN</td>\n",
              "      <td>2022-06-30</td>\n",
              "    </tr>\n",
              "  </tbody>\n",
              "</table>\n",
              "</div>"
            ],
            "text/plain": [
              "       행정시  읍면동        허가일자           상호  설비용량(KW)   상태 사업개시일     데이터기준일자\n",
              "2143   제주시  한경면  2022-06-08    민재 태양광발전소      99.6  인허가   NaN  2022-06-30\n",
              "2144   제주시  한림읍  2022-06-08  효일4호 태양광발전소      99.0  인허가   NaN  2022-06-30\n",
              "2145   제주시  한림읍  2022-06-08  효일3호 태양광발전소      99.0  인허가   NaN  2022-06-30\n",
              "2146   제주시  한림읍  2022-06-08  효일5호 태양광발전소      99.0  인허가   NaN  2022-06-30\n",
              "2147  서귀포시  성산읍  2022-06-21   한라2호소수력발전소     210.0  인허가   NaN  2022-06-30"
            ]
          },
          "execution_count": 6,
          "metadata": {},
          "output_type": "execute_result"
        }
      ],
      "source": [
        "df.tail()"
      ]
    },
    {
      "cell_type": "code",
      "execution_count": 7,
      "metadata": {
        "colab": {
          "base_uri": "https://localhost:8080/"
        },
        "id": "YyNYH-JsREu0",
        "outputId": "791aeab2-532a-4d35-f89a-fd09b5c1be24"
      },
      "outputs": [
        {
          "name": "stdout",
          "output_type": "stream",
          "text": [
            "<class 'pandas.core.frame.DataFrame'>\n",
            "RangeIndex: 2148 entries, 0 to 2147\n",
            "Data columns (total 8 columns):\n",
            " #   Column    Non-Null Count  Dtype  \n",
            "---  ------    --------------  -----  \n",
            " 0   행정시       2148 non-null   object \n",
            " 1   읍면동       2148 non-null   object \n",
            " 2   허가일자      2148 non-null   object \n",
            " 3   상호        2148 non-null   object \n",
            " 4   설비용량(KW)  2148 non-null   float64\n",
            " 5   상태        2148 non-null   object \n",
            " 6   사업개시일     1571 non-null   object \n",
            " 7   데이터기준일자   2148 non-null   object \n",
            "dtypes: float64(1), object(7)\n",
            "memory usage: 134.4+ KB\n"
          ]
        }
      ],
      "source": [
        "df.info()"
      ]
    },
    {
      "cell_type": "code",
      "execution_count": 8,
      "metadata": {
        "id": "hbDviSEkRZTJ"
      },
      "outputs": [],
      "source": [
        "# 결측치가 있는 행은 삭제\n",
        "df.dropna(inplace=True)"
      ]
    },
    {
      "cell_type": "code",
      "execution_count": 9,
      "metadata": {
        "colab": {
          "base_uri": "https://localhost:8080/"
        },
        "id": "eyMUg03IR2h-",
        "outputId": "df3d5bf5-646c-4236-8897-ae2e06957bce"
      },
      "outputs": [
        {
          "name": "stdout",
          "output_type": "stream",
          "text": [
            "<class 'pandas.core.frame.DataFrame'>\n",
            "Index: 1571 entries, 0 to 2091\n",
            "Data columns (total 8 columns):\n",
            " #   Column    Non-Null Count  Dtype  \n",
            "---  ------    --------------  -----  \n",
            " 0   행정시       1571 non-null   object \n",
            " 1   읍면동       1571 non-null   object \n",
            " 2   허가일자      1571 non-null   object \n",
            " 3   상호        1571 non-null   object \n",
            " 4   설비용량(KW)  1571 non-null   float64\n",
            " 5   상태        1571 non-null   object \n",
            " 6   사업개시일     1571 non-null   object \n",
            " 7   데이터기준일자   1571 non-null   object \n",
            "dtypes: float64(1), object(7)\n",
            "memory usage: 110.5+ KB\n"
          ]
        }
      ],
      "source": [
        "df.info()"
      ]
    },
    {
      "cell_type": "code",
      "execution_count": 10,
      "metadata": {
        "colab": {
          "base_uri": "https://localhost:8080/",
          "height": 363
        },
        "id": "jeai6zqZR9TC",
        "outputId": "9820818c-474d-4f19-ca39-954c90ebca72"
      },
      "outputs": [
        {
          "data": {
            "text/html": [
              "<div>\n",
              "<style scoped>\n",
              "    .dataframe tbody tr th:only-of-type {\n",
              "        vertical-align: middle;\n",
              "    }\n",
              "\n",
              "    .dataframe tbody tr th {\n",
              "        vertical-align: top;\n",
              "    }\n",
              "\n",
              "    .dataframe thead th {\n",
              "        text-align: right;\n",
              "    }\n",
              "</style>\n",
              "<table border=\"1\" class=\"dataframe\">\n",
              "  <thead>\n",
              "    <tr style=\"text-align: right;\">\n",
              "      <th></th>\n",
              "      <th>행정시</th>\n",
              "      <th>읍면동</th>\n",
              "      <th>허가일자</th>\n",
              "      <th>상호</th>\n",
              "      <th>설비용량(KW)</th>\n",
              "      <th>상태</th>\n",
              "      <th>사업개시일</th>\n",
              "      <th>데이터기준일자</th>\n",
              "    </tr>\n",
              "  </thead>\n",
              "  <tbody>\n",
              "    <tr>\n",
              "      <th>0</th>\n",
              "      <td>제주시</td>\n",
              "      <td>구좌읍</td>\n",
              "      <td>1998-06-10</td>\n",
              "      <td>행원풍력발전단지(1차)</td>\n",
              "      <td>3480.00</td>\n",
              "      <td>사업개시</td>\n",
              "      <td>2000-04-05</td>\n",
              "      <td>2022-06-30</td>\n",
              "    </tr>\n",
              "    <tr>\n",
              "      <th>1</th>\n",
              "      <td>제주시</td>\n",
              "      <td>회천동</td>\n",
              "      <td>2002-12-09</td>\n",
              "      <td>파낙스에너지(주)</td>\n",
              "      <td>1000.00</td>\n",
              "      <td>사업개시</td>\n",
              "      <td>2002-12-18</td>\n",
              "      <td>2022-06-30</td>\n",
              "    </tr>\n",
              "    <tr>\n",
              "      <th>2</th>\n",
              "      <td>제주시</td>\n",
              "      <td>한경면</td>\n",
              "      <td>2003-04-14</td>\n",
              "      <td>한경풍력 1단계</td>\n",
              "      <td>6000.00</td>\n",
              "      <td>사업개시</td>\n",
              "      <td>2004-02-28</td>\n",
              "      <td>2022-06-30</td>\n",
              "    </tr>\n",
              "    <tr>\n",
              "      <th>3</th>\n",
              "      <td>제주시</td>\n",
              "      <td>한경면</td>\n",
              "      <td>2005-04-04</td>\n",
              "      <td>신창풍력발전단지</td>\n",
              "      <td>1700.00</td>\n",
              "      <td>사업개시</td>\n",
              "      <td>2006-03-03</td>\n",
              "      <td>2022-06-30</td>\n",
              "    </tr>\n",
              "    <tr>\n",
              "      <th>4</th>\n",
              "      <td>제주시</td>\n",
              "      <td>구좌읍</td>\n",
              "      <td>2005-08-30</td>\n",
              "      <td>제주월정풍력발전소</td>\n",
              "      <td>1500.00</td>\n",
              "      <td>사업개시</td>\n",
              "      <td>2006-07-20</td>\n",
              "      <td>2022-06-30</td>\n",
              "    </tr>\n",
              "    <tr>\n",
              "      <th>5</th>\n",
              "      <td>제주시</td>\n",
              "      <td>한경면</td>\n",
              "      <td>2006-03-03</td>\n",
              "      <td>오복산전</td>\n",
              "      <td>59.87</td>\n",
              "      <td>사업개시</td>\n",
              "      <td>2006-07-11</td>\n",
              "      <td>2022-06-30</td>\n",
              "    </tr>\n",
              "    <tr>\n",
              "      <th>6</th>\n",
              "      <td>제주시</td>\n",
              "      <td>한경면</td>\n",
              "      <td>2006-08-11</td>\n",
              "      <td>탐라해상풍력발전소</td>\n",
              "      <td>30000.00</td>\n",
              "      <td>공사진행</td>\n",
              "      <td>2017-09-16</td>\n",
              "      <td>2022-06-30</td>\n",
              "    </tr>\n",
              "    <tr>\n",
              "      <th>7</th>\n",
              "      <td>제주시</td>\n",
              "      <td>한경면</td>\n",
              "      <td>2006-08-24</td>\n",
              "      <td>오복산전 3호</td>\n",
              "      <td>29.52</td>\n",
              "      <td>사업개시</td>\n",
              "      <td>2006-09-25</td>\n",
              "      <td>2022-06-30</td>\n",
              "    </tr>\n",
              "    <tr>\n",
              "      <th>8</th>\n",
              "      <td>제주시</td>\n",
              "      <td>조천읍</td>\n",
              "      <td>2007-01-05</td>\n",
              "      <td>민솔라에너지</td>\n",
              "      <td>90.72</td>\n",
              "      <td>사업개시</td>\n",
              "      <td>2007-04-04</td>\n",
              "      <td>2022-06-30</td>\n",
              "    </tr>\n",
              "    <tr>\n",
              "      <th>9</th>\n",
              "      <td>서귀포시</td>\n",
              "      <td>성산읍</td>\n",
              "      <td>2007-02-21</td>\n",
              "      <td>제주에너지 주식회사</td>\n",
              "      <td>200.00</td>\n",
              "      <td>사업개시</td>\n",
              "      <td>2008-09-29</td>\n",
              "      <td>2022-06-30</td>\n",
              "    </tr>\n",
              "  </tbody>\n",
              "</table>\n",
              "</div>"
            ],
            "text/plain": [
              "    행정시  읍면동        허가일자            상호  설비용량(KW)    상태       사업개시일     데이터기준일자\n",
              "0   제주시  구좌읍  1998-06-10  행원풍력발전단지(1차)   3480.00  사업개시  2000-04-05  2022-06-30\n",
              "1   제주시  회천동  2002-12-09     파낙스에너지(주)   1000.00  사업개시  2002-12-18  2022-06-30\n",
              "2   제주시  한경면  2003-04-14      한경풍력 1단계   6000.00  사업개시  2004-02-28  2022-06-30\n",
              "3   제주시  한경면  2005-04-04      신창풍력발전단지   1700.00  사업개시  2006-03-03  2022-06-30\n",
              "4   제주시  구좌읍  2005-08-30     제주월정풍력발전소   1500.00  사업개시  2006-07-20  2022-06-30\n",
              "5   제주시  한경면  2006-03-03          오복산전     59.87  사업개시  2006-07-11  2022-06-30\n",
              "6   제주시  한경면  2006-08-11     탐라해상풍력발전소  30000.00  공사진행  2017-09-16  2022-06-30\n",
              "7   제주시  한경면  2006-08-24       오복산전 3호     29.52  사업개시  2006-09-25  2022-06-30\n",
              "8   제주시  조천읍  2007-01-05        민솔라에너지     90.72  사업개시  2007-04-04  2022-06-30\n",
              "9  서귀포시  성산읍  2007-02-21    제주에너지 주식회사    200.00  사업개시  2008-09-29  2022-06-30"
            ]
          },
          "execution_count": 10,
          "metadata": {},
          "output_type": "execute_result"
        }
      ],
      "source": [
        "df.head(10)"
      ]
    },
    {
      "cell_type": "code",
      "execution_count": 11,
      "metadata": {
        "colab": {
          "base_uri": "https://localhost:8080/",
          "height": 143
        },
        "id": "cldI8kU4SFlM",
        "outputId": "50db3b6d-7161-4d4a-8ac9-af467c514ff5"
      },
      "outputs": [
        {
          "data": {
            "text/html": [
              "<div>\n",
              "<style scoped>\n",
              "    .dataframe tbody tr th:only-of-type {\n",
              "        vertical-align: middle;\n",
              "    }\n",
              "\n",
              "    .dataframe tbody tr th {\n",
              "        vertical-align: top;\n",
              "    }\n",
              "\n",
              "    .dataframe thead th {\n",
              "        text-align: right;\n",
              "    }\n",
              "</style>\n",
              "<table border=\"1\" class=\"dataframe\">\n",
              "  <thead>\n",
              "    <tr style=\"text-align: right;\">\n",
              "      <th></th>\n",
              "      <th>행정시</th>\n",
              "      <th>읍면동</th>\n",
              "      <th>허가일자</th>\n",
              "      <th>상호</th>\n",
              "      <th>설비용량(KW)</th>\n",
              "      <th>상태</th>\n",
              "      <th>사업개시일</th>\n",
              "      <th>데이터기준일자</th>\n",
              "    </tr>\n",
              "  </thead>\n",
              "  <tbody>\n",
              "    <tr>\n",
              "      <th>6</th>\n",
              "      <td>제주시</td>\n",
              "      <td>한경면</td>\n",
              "      <td>2006-08-11</td>\n",
              "      <td>탐라해상풍력발전소</td>\n",
              "      <td>30000.0</td>\n",
              "      <td>공사진행</td>\n",
              "      <td>2017-09-16</td>\n",
              "      <td>2022-06-30</td>\n",
              "    </tr>\n",
              "    <tr>\n",
              "      <th>29</th>\n",
              "      <td>서귀포시</td>\n",
              "      <td>성산읍</td>\n",
              "      <td>2008-02-28</td>\n",
              "      <td>성산풍력 1단계</td>\n",
              "      <td>12000.0</td>\n",
              "      <td>공사진행</td>\n",
              "      <td>2009-03-30</td>\n",
              "      <td>2022-06-30</td>\n",
              "    </tr>\n",
              "    <tr>\n",
              "      <th>583</th>\n",
              "      <td>제주시</td>\n",
              "      <td>한경면</td>\n",
              "      <td>2016-11-16</td>\n",
              "      <td>성용유화발전</td>\n",
              "      <td>750.0</td>\n",
              "      <td>인허가</td>\n",
              "      <td>2016-11-16</td>\n",
              "      <td>2022-06-30</td>\n",
              "    </tr>\n",
              "  </tbody>\n",
              "</table>\n",
              "</div>"
            ],
            "text/plain": [
              "      행정시  읍면동        허가일자         상호  설비용량(KW)    상태       사업개시일     데이터기준일자\n",
              "6     제주시  한경면  2006-08-11  탐라해상풍력발전소   30000.0  공사진행  2017-09-16  2022-06-30\n",
              "29   서귀포시  성산읍  2008-02-28   성산풍력 1단계   12000.0  공사진행  2009-03-30  2022-06-30\n",
              "583   제주시  한경면  2016-11-16     성용유화발전     750.0   인허가  2016-11-16  2022-06-30"
            ]
          },
          "execution_count": 11,
          "metadata": {},
          "output_type": "execute_result"
        }
      ],
      "source": [
        "df[df['상태']!='사업개시']"
      ]
    },
    {
      "cell_type": "code",
      "execution_count": 12,
      "metadata": {
        "id": "8tgYWUPSSanc"
      },
      "outputs": [],
      "source": [
        "editList = df[df['상태']!='사업개시'].index\n",
        "\n",
        "for index in editList:\n",
        "  df.loc[index, '상태'] = '사업개시'"
      ]
    },
    {
      "cell_type": "code",
      "execution_count": 13,
      "metadata": {
        "colab": {
          "base_uri": "https://localhost:8080/",
          "height": 53
        },
        "id": "7Rw-wvinSy3v",
        "outputId": "1041976c-2a71-4ddf-e699-b8ca938364c3"
      },
      "outputs": [
        {
          "data": {
            "text/html": [
              "<div>\n",
              "<style scoped>\n",
              "    .dataframe tbody tr th:only-of-type {\n",
              "        vertical-align: middle;\n",
              "    }\n",
              "\n",
              "    .dataframe tbody tr th {\n",
              "        vertical-align: top;\n",
              "    }\n",
              "\n",
              "    .dataframe thead th {\n",
              "        text-align: right;\n",
              "    }\n",
              "</style>\n",
              "<table border=\"1\" class=\"dataframe\">\n",
              "  <thead>\n",
              "    <tr style=\"text-align: right;\">\n",
              "      <th></th>\n",
              "      <th>행정시</th>\n",
              "      <th>읍면동</th>\n",
              "      <th>허가일자</th>\n",
              "      <th>상호</th>\n",
              "      <th>설비용량(KW)</th>\n",
              "      <th>상태</th>\n",
              "      <th>사업개시일</th>\n",
              "      <th>데이터기준일자</th>\n",
              "    </tr>\n",
              "  </thead>\n",
              "  <tbody>\n",
              "  </tbody>\n",
              "</table>\n",
              "</div>"
            ],
            "text/plain": [
              "Empty DataFrame\n",
              "Columns: [행정시, 읍면동, 허가일자, 상호, 설비용량(KW), 상태, 사업개시일, 데이터기준일자]\n",
              "Index: []"
            ]
          },
          "execution_count": 13,
          "metadata": {},
          "output_type": "execute_result"
        }
      ],
      "source": [
        "df[df['상태']!='사업개시']"
      ]
    },
    {
      "cell_type": "code",
      "execution_count": 14,
      "metadata": {
        "colab": {
          "base_uri": "https://localhost:8080/",
          "height": 363
        },
        "id": "qn7hVE3BTHQY",
        "outputId": "5c6bcc4c-1a5d-4f12-adfc-65ad4dec5a1c"
      },
      "outputs": [
        {
          "data": {
            "text/html": [
              "<div>\n",
              "<style scoped>\n",
              "    .dataframe tbody tr th:only-of-type {\n",
              "        vertical-align: middle;\n",
              "    }\n",
              "\n",
              "    .dataframe tbody tr th {\n",
              "        vertical-align: top;\n",
              "    }\n",
              "\n",
              "    .dataframe thead th {\n",
              "        text-align: right;\n",
              "    }\n",
              "</style>\n",
              "<table border=\"1\" class=\"dataframe\">\n",
              "  <thead>\n",
              "    <tr style=\"text-align: right;\">\n",
              "      <th></th>\n",
              "      <th>행정시</th>\n",
              "      <th>읍면동</th>\n",
              "      <th>허가일자</th>\n",
              "      <th>상호</th>\n",
              "      <th>설비용량(KW)</th>\n",
              "      <th>상태</th>\n",
              "      <th>사업개시일</th>\n",
              "      <th>데이터기준일자</th>\n",
              "    </tr>\n",
              "  </thead>\n",
              "  <tbody>\n",
              "    <tr>\n",
              "      <th>0</th>\n",
              "      <td>제주시</td>\n",
              "      <td>구좌읍</td>\n",
              "      <td>1998-06-10</td>\n",
              "      <td>행원풍력발전단지(1차)</td>\n",
              "      <td>3480.00</td>\n",
              "      <td>사업개시</td>\n",
              "      <td>2000-04-05</td>\n",
              "      <td>2022-06-30</td>\n",
              "    </tr>\n",
              "    <tr>\n",
              "      <th>1</th>\n",
              "      <td>제주시</td>\n",
              "      <td>회천동</td>\n",
              "      <td>2002-12-09</td>\n",
              "      <td>파낙스에너지(주)</td>\n",
              "      <td>1000.00</td>\n",
              "      <td>사업개시</td>\n",
              "      <td>2002-12-18</td>\n",
              "      <td>2022-06-30</td>\n",
              "    </tr>\n",
              "    <tr>\n",
              "      <th>2</th>\n",
              "      <td>제주시</td>\n",
              "      <td>한경면</td>\n",
              "      <td>2003-04-14</td>\n",
              "      <td>한경풍력 1단계</td>\n",
              "      <td>6000.00</td>\n",
              "      <td>사업개시</td>\n",
              "      <td>2004-02-28</td>\n",
              "      <td>2022-06-30</td>\n",
              "    </tr>\n",
              "    <tr>\n",
              "      <th>3</th>\n",
              "      <td>제주시</td>\n",
              "      <td>한경면</td>\n",
              "      <td>2005-04-04</td>\n",
              "      <td>신창풍력발전단지</td>\n",
              "      <td>1700.00</td>\n",
              "      <td>사업개시</td>\n",
              "      <td>2006-03-03</td>\n",
              "      <td>2022-06-30</td>\n",
              "    </tr>\n",
              "    <tr>\n",
              "      <th>4</th>\n",
              "      <td>제주시</td>\n",
              "      <td>구좌읍</td>\n",
              "      <td>2005-08-30</td>\n",
              "      <td>제주월정풍력발전소</td>\n",
              "      <td>1500.00</td>\n",
              "      <td>사업개시</td>\n",
              "      <td>2006-07-20</td>\n",
              "      <td>2022-06-30</td>\n",
              "    </tr>\n",
              "    <tr>\n",
              "      <th>5</th>\n",
              "      <td>제주시</td>\n",
              "      <td>한경면</td>\n",
              "      <td>2006-03-03</td>\n",
              "      <td>오복산전</td>\n",
              "      <td>59.87</td>\n",
              "      <td>사업개시</td>\n",
              "      <td>2006-07-11</td>\n",
              "      <td>2022-06-30</td>\n",
              "    </tr>\n",
              "    <tr>\n",
              "      <th>6</th>\n",
              "      <td>제주시</td>\n",
              "      <td>한경면</td>\n",
              "      <td>2006-08-11</td>\n",
              "      <td>탐라해상풍력발전소</td>\n",
              "      <td>30000.00</td>\n",
              "      <td>사업개시</td>\n",
              "      <td>2017-09-16</td>\n",
              "      <td>2022-06-30</td>\n",
              "    </tr>\n",
              "    <tr>\n",
              "      <th>7</th>\n",
              "      <td>제주시</td>\n",
              "      <td>한경면</td>\n",
              "      <td>2006-08-24</td>\n",
              "      <td>오복산전 3호</td>\n",
              "      <td>29.52</td>\n",
              "      <td>사업개시</td>\n",
              "      <td>2006-09-25</td>\n",
              "      <td>2022-06-30</td>\n",
              "    </tr>\n",
              "    <tr>\n",
              "      <th>8</th>\n",
              "      <td>제주시</td>\n",
              "      <td>조천읍</td>\n",
              "      <td>2007-01-05</td>\n",
              "      <td>민솔라에너지</td>\n",
              "      <td>90.72</td>\n",
              "      <td>사업개시</td>\n",
              "      <td>2007-04-04</td>\n",
              "      <td>2022-06-30</td>\n",
              "    </tr>\n",
              "    <tr>\n",
              "      <th>9</th>\n",
              "      <td>서귀포시</td>\n",
              "      <td>성산읍</td>\n",
              "      <td>2007-02-21</td>\n",
              "      <td>제주에너지 주식회사</td>\n",
              "      <td>200.00</td>\n",
              "      <td>사업개시</td>\n",
              "      <td>2008-09-29</td>\n",
              "      <td>2022-06-30</td>\n",
              "    </tr>\n",
              "  </tbody>\n",
              "</table>\n",
              "</div>"
            ],
            "text/plain": [
              "    행정시  읍면동        허가일자            상호  설비용량(KW)    상태       사업개시일     데이터기준일자\n",
              "0   제주시  구좌읍  1998-06-10  행원풍력발전단지(1차)   3480.00  사업개시  2000-04-05  2022-06-30\n",
              "1   제주시  회천동  2002-12-09     파낙스에너지(주)   1000.00  사업개시  2002-12-18  2022-06-30\n",
              "2   제주시  한경면  2003-04-14      한경풍력 1단계   6000.00  사업개시  2004-02-28  2022-06-30\n",
              "3   제주시  한경면  2005-04-04      신창풍력발전단지   1700.00  사업개시  2006-03-03  2022-06-30\n",
              "4   제주시  구좌읍  2005-08-30     제주월정풍력발전소   1500.00  사업개시  2006-07-20  2022-06-30\n",
              "5   제주시  한경면  2006-03-03          오복산전     59.87  사업개시  2006-07-11  2022-06-30\n",
              "6   제주시  한경면  2006-08-11     탐라해상풍력발전소  30000.00  사업개시  2017-09-16  2022-06-30\n",
              "7   제주시  한경면  2006-08-24       오복산전 3호     29.52  사업개시  2006-09-25  2022-06-30\n",
              "8   제주시  조천읍  2007-01-05        민솔라에너지     90.72  사업개시  2007-04-04  2022-06-30\n",
              "9  서귀포시  성산읍  2007-02-21    제주에너지 주식회사    200.00  사업개시  2008-09-29  2022-06-30"
            ]
          },
          "execution_count": 14,
          "metadata": {},
          "output_type": "execute_result"
        }
      ],
      "source": [
        "df.head(10)"
      ]
    },
    {
      "cell_type": "code",
      "execution_count": 15,
      "metadata": {
        "id": "_yMM_itZTPX1"
      },
      "outputs": [],
      "source": [
        "csvPath2 = '../data/JejuRecyclePlant_220630.csv'"
      ]
    },
    {
      "cell_type": "code",
      "execution_count": 16,
      "metadata": {
        "colab": {
          "base_uri": "https://localhost:8080/"
        },
        "id": "B3HoKQ8uTyZt",
        "outputId": "3de8819e-9ce3-4649-897f-6c745e945c33"
      },
      "outputs": [
        {
          "name": "stdout",
          "output_type": "stream",
          "text": [
            "<class 'pandas.core.frame.DataFrame'>\n",
            "RangeIndex: 1582 entries, 0 to 1581\n",
            "Data columns (total 7 columns):\n",
            " #   Column    Non-Null Count  Dtype  \n",
            "---  ------    --------------  -----  \n",
            " 0   허가일자      1582 non-null   object \n",
            " 1   상호        1582 non-null   object \n",
            " 2   설비용량(KW)  1582 non-null   float64\n",
            " 3   설치장소      1582 non-null   object \n",
            " 4   원동력종류     1582 non-null   object \n",
            " 5   사업개시일     1582 non-null   object \n",
            " 6   데이터기준일자   1582 non-null   object \n",
            "dtypes: float64(1), object(6)\n",
            "memory usage: 86.6+ KB\n"
          ]
        }
      ],
      "source": [
        "df = pd.read_csv(csvPath2, encoding='cp949')\n",
        "df.info()"
      ]
    },
    {
      "cell_type": "code",
      "execution_count": 17,
      "metadata": {
        "colab": {
          "base_uri": "https://localhost:8080/",
          "height": 310
        },
        "id": "etZg3QzoT351",
        "outputId": "7ea606b6-5f36-401f-9373-c6c0a92acdba"
      },
      "outputs": [
        {
          "data": {
            "text/html": [
              "<div>\n",
              "<style scoped>\n",
              "    .dataframe tbody tr th:only-of-type {\n",
              "        vertical-align: middle;\n",
              "    }\n",
              "\n",
              "    .dataframe tbody tr th {\n",
              "        vertical-align: top;\n",
              "    }\n",
              "\n",
              "    .dataframe thead th {\n",
              "        text-align: right;\n",
              "    }\n",
              "</style>\n",
              "<table border=\"1\" class=\"dataframe\">\n",
              "  <thead>\n",
              "    <tr style=\"text-align: right;\">\n",
              "      <th></th>\n",
              "      <th>허가일자</th>\n",
              "      <th>상호</th>\n",
              "      <th>설비용량(KW)</th>\n",
              "      <th>설치장소</th>\n",
              "      <th>원동력종류</th>\n",
              "      <th>사업개시일</th>\n",
              "      <th>데이터기준일자</th>\n",
              "    </tr>\n",
              "  </thead>\n",
              "  <tbody>\n",
              "    <tr>\n",
              "      <th>0</th>\n",
              "      <td>2019-05-22</td>\n",
              "      <td>북촌서모풍력발전소</td>\n",
              "      <td>3000.0</td>\n",
              "      <td>제주특별자치도 제주시 조천읍</td>\n",
              "      <td>풍력</td>\n",
              "      <td>2020-07-31</td>\n",
              "      <td>2022-11-16</td>\n",
              "    </tr>\n",
              "    <tr>\n",
              "      <th>1</th>\n",
              "      <td>2016-12-12</td>\n",
              "      <td>동복리마을풍력발전소</td>\n",
              "      <td>2000.0</td>\n",
              "      <td>제주특별자치도 제주시 구좌읍</td>\n",
              "      <td>풍력</td>\n",
              "      <td>2017-12-01</td>\n",
              "      <td>2022-11-16</td>\n",
              "    </tr>\n",
              "    <tr>\n",
              "      <th>2</th>\n",
              "      <td>2016-10-17</td>\n",
              "      <td>수망풍력발전소</td>\n",
              "      <td>25200.0</td>\n",
              "      <td>제주특별자치도 서귀포시 남원읍</td>\n",
              "      <td>풍력</td>\n",
              "      <td>2020-06-29</td>\n",
              "      <td>2022-11-16</td>\n",
              "    </tr>\n",
              "    <tr>\n",
              "      <th>3</th>\n",
              "      <td>2014-06-13</td>\n",
              "      <td>동복북촌풍력발전단지</td>\n",
              "      <td>30000.0</td>\n",
              "      <td>제주특별자치도 제주시 구좌읍</td>\n",
              "      <td>풍력</td>\n",
              "      <td>2015-08-01</td>\n",
              "      <td>2022-11-16</td>\n",
              "    </tr>\n",
              "    <tr>\n",
              "      <th>4</th>\n",
              "      <td>2014-05-02</td>\n",
              "      <td>상명풍력발전소</td>\n",
              "      <td>21000.0</td>\n",
              "      <td>제주특별자치도 제주시 한림읍</td>\n",
              "      <td>풍력</td>\n",
              "      <td>2016-08-22</td>\n",
              "      <td>2022-11-16</td>\n",
              "    </tr>\n",
              "  </tbody>\n",
              "</table>\n",
              "</div>"
            ],
            "text/plain": [
              "         허가일자          상호  설비용량(KW)              설치장소 원동력종류       사업개시일  \\\n",
              "0  2019-05-22   북촌서모풍력발전소    3000.0   제주특별자치도 제주시 조천읍    풍력  2020-07-31   \n",
              "1  2016-12-12  동복리마을풍력발전소    2000.0   제주특별자치도 제주시 구좌읍    풍력  2017-12-01   \n",
              "2  2016-10-17     수망풍력발전소   25200.0  제주특별자치도 서귀포시 남원읍    풍력  2020-06-29   \n",
              "3  2014-06-13  동복북촌풍력발전단지   30000.0   제주특별자치도 제주시 구좌읍    풍력  2015-08-01   \n",
              "4  2014-05-02     상명풍력발전소   21000.0   제주특별자치도 제주시 한림읍    풍력  2016-08-22   \n",
              "\n",
              "      데이터기준일자  \n",
              "0  2022-11-16  \n",
              "1  2022-11-16  \n",
              "2  2022-11-16  \n",
              "3  2022-11-16  \n",
              "4  2022-11-16  "
            ]
          },
          "execution_count": 17,
          "metadata": {},
          "output_type": "execute_result"
        }
      ],
      "source": [
        "df.head()"
      ]
    },
    {
      "cell_type": "code",
      "execution_count": 18,
      "metadata": {
        "colab": {
          "base_uri": "https://localhost:8080/",
          "height": 310
        },
        "id": "0QO2Li7MT8J_",
        "outputId": "83c7e0d1-2ac3-4434-e2cd-efa0dbb36dac"
      },
      "outputs": [
        {
          "data": {
            "text/html": [
              "<div>\n",
              "<style scoped>\n",
              "    .dataframe tbody tr th:only-of-type {\n",
              "        vertical-align: middle;\n",
              "    }\n",
              "\n",
              "    .dataframe tbody tr th {\n",
              "        vertical-align: top;\n",
              "    }\n",
              "\n",
              "    .dataframe thead th {\n",
              "        text-align: right;\n",
              "    }\n",
              "</style>\n",
              "<table border=\"1\" class=\"dataframe\">\n",
              "  <thead>\n",
              "    <tr style=\"text-align: right;\">\n",
              "      <th></th>\n",
              "      <th>허가일자</th>\n",
              "      <th>상호</th>\n",
              "      <th>설비용량(KW)</th>\n",
              "      <th>설치장소</th>\n",
              "      <th>원동력종류</th>\n",
              "      <th>사업개시일</th>\n",
              "      <th>데이터기준일자</th>\n",
              "    </tr>\n",
              "  </thead>\n",
              "  <tbody>\n",
              "    <tr>\n",
              "      <th>1577</th>\n",
              "      <td>2013-03-12</td>\n",
              "      <td>주식회사 이웰</td>\n",
              "      <td>2950.0</td>\n",
              "      <td>제주특별자치도 서귀포시 토평동</td>\n",
              "      <td>바이오가스</td>\n",
              "      <td>2015-07-21</td>\n",
              "      <td>2022-11-16</td>\n",
              "    </tr>\n",
              "    <tr>\n",
              "      <th>1578</th>\n",
              "      <td>2012-11-27</td>\n",
              "      <td>농업회사법인 주식회사 한라산 바이오</td>\n",
              "      <td>500.0</td>\n",
              "      <td>제주특별자치도 서귀포시 안덕면</td>\n",
              "      <td>바이오가스</td>\n",
              "      <td>2015-05-01</td>\n",
              "      <td>2022-11-16</td>\n",
              "    </tr>\n",
              "    <tr>\n",
              "      <th>1579</th>\n",
              "      <td>2010-06-21</td>\n",
              "      <td>(주)농업회사법인 제주축산바이오가스발전소</td>\n",
              "      <td>99.0</td>\n",
              "      <td>제주특별자치도 제주시 한림읍</td>\n",
              "      <td>바이오가스</td>\n",
              "      <td>2010-08-24</td>\n",
              "      <td>2022-11-16</td>\n",
              "    </tr>\n",
              "    <tr>\n",
              "      <th>1580</th>\n",
              "      <td>2002-12-09</td>\n",
              "      <td>파낙스에너지(주)</td>\n",
              "      <td>1000.0</td>\n",
              "      <td>제주특별자치도 제주시 회천동</td>\n",
              "      <td>바이오가스</td>\n",
              "      <td>2002-12-18</td>\n",
              "      <td>2022-11-16</td>\n",
              "    </tr>\n",
              "    <tr>\n",
              "      <th>1581</th>\n",
              "      <td>2015-05-27</td>\n",
              "      <td>서광산업 신재생에너지발전소</td>\n",
              "      <td>2400.0</td>\n",
              "      <td>제주특별자치도 제주시 애월읍</td>\n",
              "      <td>기타</td>\n",
              "      <td>2015-12-17</td>\n",
              "      <td>2022-11-16</td>\n",
              "    </tr>\n",
              "  </tbody>\n",
              "</table>\n",
              "</div>"
            ],
            "text/plain": [
              "            허가일자                      상호  설비용량(KW)              설치장소  원동력종류  \\\n",
              "1577  2013-03-12                 주식회사 이웰    2950.0  제주특별자치도 서귀포시 토평동  바이오가스   \n",
              "1578  2012-11-27     농업회사법인 주식회사 한라산 바이오     500.0  제주특별자치도 서귀포시 안덕면  바이오가스   \n",
              "1579  2010-06-21  (주)농업회사법인 제주축산바이오가스발전소      99.0   제주특별자치도 제주시 한림읍  바이오가스   \n",
              "1580  2002-12-09               파낙스에너지(주)    1000.0   제주특별자치도 제주시 회천동  바이오가스   \n",
              "1581  2015-05-27          서광산업 신재생에너지발전소    2400.0   제주특별자치도 제주시 애월읍     기타   \n",
              "\n",
              "           사업개시일     데이터기준일자  \n",
              "1577  2015-07-21  2022-11-16  \n",
              "1578  2015-05-01  2022-11-16  \n",
              "1579  2010-08-24  2022-11-16  \n",
              "1580  2002-12-18  2022-11-16  \n",
              "1581  2015-12-17  2022-11-16  "
            ]
          },
          "execution_count": 18,
          "metadata": {},
          "output_type": "execute_result"
        }
      ],
      "source": [
        "df.tail()"
      ]
    },
    {
      "cell_type": "code",
      "execution_count": 19,
      "metadata": {
        "colab": {
          "base_uri": "https://localhost:8080/"
        },
        "id": "sjzMq1YSUGO0",
        "outputId": "32ab4966-9833-4b19-ce3c-e278b06dbfd9"
      },
      "outputs": [
        {
          "data": {
            "text/plain": [
              "array(['풍력', '태양광', '수력', '바이오가스', '기타'], dtype=object)"
            ]
          },
          "execution_count": 19,
          "metadata": {},
          "output_type": "execute_result"
        }
      ],
      "source": [
        "df['원동력종류'].unique()"
      ]
    },
    {
      "cell_type": "code",
      "execution_count": 20,
      "metadata": {
        "colab": {
          "base_uri": "https://localhost:8080/"
        },
        "id": "wLVsQp5sUOPV",
        "outputId": "37a8063b-414e-4739-aab7-9622350c950a"
      },
      "outputs": [
        {
          "name": "stdout",
          "output_type": "stream",
          "text": [
            "<class 'pandas.core.frame.DataFrame'>\n",
            "Index: 1547 entries, 24 to 1570\n",
            "Data columns (total 7 columns):\n",
            " #   Column    Non-Null Count  Dtype  \n",
            "---  ------    --------------  -----  \n",
            " 0   허가일자      1547 non-null   object \n",
            " 1   상호        1547 non-null   object \n",
            " 2   설비용량(KW)  1547 non-null   float64\n",
            " 3   설치장소      1547 non-null   object \n",
            " 4   원동력종류     1547 non-null   object \n",
            " 5   사업개시일     1547 non-null   object \n",
            " 6   데이터기준일자   1547 non-null   object \n",
            "dtypes: float64(1), object(6)\n",
            "memory usage: 96.7+ KB\n"
          ]
        }
      ],
      "source": [
        "df2 = df[df['원동력종류']=='태양광']\n",
        "df2.info()"
      ]
    },
    {
      "cell_type": "code",
      "execution_count": 21,
      "metadata": {
        "colab": {
          "base_uri": "https://localhost:8080/",
          "height": 554
        },
        "id": "Bw_ttnomUYUv",
        "outputId": "0c4c9044-27d5-492e-de77-6bb2dd1a7dac"
      },
      "outputs": [
        {
          "data": {
            "text/html": [
              "<div>\n",
              "<style scoped>\n",
              "    .dataframe tbody tr th:only-of-type {\n",
              "        vertical-align: middle;\n",
              "    }\n",
              "\n",
              "    .dataframe tbody tr th {\n",
              "        vertical-align: top;\n",
              "    }\n",
              "\n",
              "    .dataframe thead th {\n",
              "        text-align: right;\n",
              "    }\n",
              "</style>\n",
              "<table border=\"1\" class=\"dataframe\">\n",
              "  <thead>\n",
              "    <tr style=\"text-align: right;\">\n",
              "      <th></th>\n",
              "      <th>허가일자</th>\n",
              "      <th>상호</th>\n",
              "      <th>설비용량(KW)</th>\n",
              "      <th>설치장소</th>\n",
              "      <th>원동력종류</th>\n",
              "      <th>사업개시일</th>\n",
              "      <th>데이터기준일자</th>\n",
              "    </tr>\n",
              "  </thead>\n",
              "  <tbody>\n",
              "    <tr>\n",
              "      <th>24</th>\n",
              "      <td>2021-09-15</td>\n",
              "      <td>흥산태양광발전소</td>\n",
              "      <td>999.63</td>\n",
              "      <td>제주특별자치도 제주시 구좌읍</td>\n",
              "      <td>태양광</td>\n",
              "      <td>2022-04-25</td>\n",
              "      <td>2022-11-16</td>\n",
              "    </tr>\n",
              "    <tr>\n",
              "      <th>25</th>\n",
              "      <td>2021-08-03</td>\n",
              "      <td>태양7호태양광발전소</td>\n",
              "      <td>198.88</td>\n",
              "      <td>제주특별자치도 서귀포시 안덕면</td>\n",
              "      <td>태양광</td>\n",
              "      <td>2021-12-10</td>\n",
              "      <td>2022-11-16</td>\n",
              "    </tr>\n",
              "    <tr>\n",
              "      <th>26</th>\n",
              "      <td>2021-04-21</td>\n",
              "      <td>제주덕암 태양광발전소</td>\n",
              "      <td>99.18</td>\n",
              "      <td>제주특별자치도 서귀포시 표선면</td>\n",
              "      <td>태양광</td>\n",
              "      <td>2022-01-03</td>\n",
              "      <td>2022-11-16</td>\n",
              "    </tr>\n",
              "    <tr>\n",
              "      <th>27</th>\n",
              "      <td>2021-04-19</td>\n",
              "      <td>청춘 태양광발전소</td>\n",
              "      <td>662.48</td>\n",
              "      <td>제주특별자치도 서귀포시 안덕면</td>\n",
              "      <td>태양광</td>\n",
              "      <td>2022-01-03</td>\n",
              "      <td>2022-11-16</td>\n",
              "    </tr>\n",
              "    <tr>\n",
              "      <th>28</th>\n",
              "      <td>2021-04-19</td>\n",
              "      <td>에스원태양광발전소</td>\n",
              "      <td>458.64</td>\n",
              "      <td>제주특별자치도 서귀포시 안덕면</td>\n",
              "      <td>태양광</td>\n",
              "      <td>2022-01-03</td>\n",
              "      <td>2022-11-16</td>\n",
              "    </tr>\n",
              "    <tr>\n",
              "      <th>29</th>\n",
              "      <td>2021-04-19</td>\n",
              "      <td>인에너지2호 태양광발전소</td>\n",
              "      <td>98.28</td>\n",
              "      <td>제주특별자치도 서귀포시 안덕면</td>\n",
              "      <td>태양광</td>\n",
              "      <td>2022-01-03</td>\n",
              "      <td>2022-11-16</td>\n",
              "    </tr>\n",
              "    <tr>\n",
              "      <th>30</th>\n",
              "      <td>2021-04-19</td>\n",
              "      <td>썬 태양광발전소</td>\n",
              "      <td>182.00</td>\n",
              "      <td>제주특별자치도 서귀포시 안덕면</td>\n",
              "      <td>태양광</td>\n",
              "      <td>2022-01-03</td>\n",
              "      <td>2022-11-16</td>\n",
              "    </tr>\n",
              "    <tr>\n",
              "      <th>31</th>\n",
              "      <td>2021-04-19</td>\n",
              "      <td>라이언태양광발전소</td>\n",
              "      <td>662.48</td>\n",
              "      <td>제주특별자치도 서귀포시 안덕면</td>\n",
              "      <td>태양광</td>\n",
              "      <td>2022-01-03</td>\n",
              "      <td>2022-11-16</td>\n",
              "    </tr>\n",
              "    <tr>\n",
              "      <th>32</th>\n",
              "      <td>2021-03-22</td>\n",
              "      <td>수민 태양광발전소</td>\n",
              "      <td>597.06</td>\n",
              "      <td>제주특별자치도 서귀포시 성산읍</td>\n",
              "      <td>태양광</td>\n",
              "      <td>2022-07-08</td>\n",
              "      <td>2022-11-16</td>\n",
              "    </tr>\n",
              "    <tr>\n",
              "      <th>33</th>\n",
              "      <td>2021-03-02</td>\n",
              "      <td>못거리태양광발전소</td>\n",
              "      <td>19.80</td>\n",
              "      <td>제주특별자치도 서귀포시 법환동</td>\n",
              "      <td>태양광</td>\n",
              "      <td>2021-09-16</td>\n",
              "      <td>2022-11-16</td>\n",
              "    </tr>\n",
              "  </tbody>\n",
              "</table>\n",
              "</div>"
            ],
            "text/plain": [
              "          허가일자             상호  설비용량(KW)              설치장소 원동력종류       사업개시일  \\\n",
              "24  2021-09-15       흥산태양광발전소    999.63   제주특별자치도 제주시 구좌읍   태양광  2022-04-25   \n",
              "25  2021-08-03     태양7호태양광발전소    198.88  제주특별자치도 서귀포시 안덕면   태양광  2021-12-10   \n",
              "26  2021-04-21    제주덕암 태양광발전소     99.18  제주특별자치도 서귀포시 표선면   태양광  2022-01-03   \n",
              "27  2021-04-19      청춘 태양광발전소    662.48  제주특별자치도 서귀포시 안덕면   태양광  2022-01-03   \n",
              "28  2021-04-19      에스원태양광발전소    458.64  제주특별자치도 서귀포시 안덕면   태양광  2022-01-03   \n",
              "29  2021-04-19  인에너지2호 태양광발전소     98.28  제주특별자치도 서귀포시 안덕면   태양광  2022-01-03   \n",
              "30  2021-04-19       썬 태양광발전소    182.00  제주특별자치도 서귀포시 안덕면   태양광  2022-01-03   \n",
              "31  2021-04-19      라이언태양광발전소    662.48  제주특별자치도 서귀포시 안덕면   태양광  2022-01-03   \n",
              "32  2021-03-22      수민 태양광발전소    597.06  제주특별자치도 서귀포시 성산읍   태양광  2022-07-08   \n",
              "33  2021-03-02      못거리태양광발전소     19.80  제주특별자치도 서귀포시 법환동   태양광  2021-09-16   \n",
              "\n",
              "       데이터기준일자  \n",
              "24  2022-11-16  \n",
              "25  2022-11-16  \n",
              "26  2022-11-16  \n",
              "27  2022-11-16  \n",
              "28  2022-11-16  \n",
              "29  2022-11-16  \n",
              "30  2022-11-16  \n",
              "31  2022-11-16  \n",
              "32  2022-11-16  \n",
              "33  2022-11-16  "
            ]
          },
          "execution_count": 21,
          "metadata": {},
          "output_type": "execute_result"
        }
      ],
      "source": [
        "df2.head(10)"
      ]
    },
    {
      "cell_type": "code",
      "execution_count": 22,
      "metadata": {
        "colab": {
          "base_uri": "https://localhost:8080/",
          "height": 310
        },
        "id": "F3ryFu--UsLj",
        "outputId": "c7f14d62-b9cc-47ac-bcb2-283f388cbda3"
      },
      "outputs": [
        {
          "data": {
            "text/html": [
              "<div>\n",
              "<style scoped>\n",
              "    .dataframe tbody tr th:only-of-type {\n",
              "        vertical-align: middle;\n",
              "    }\n",
              "\n",
              "    .dataframe tbody tr th {\n",
              "        vertical-align: top;\n",
              "    }\n",
              "\n",
              "    .dataframe thead th {\n",
              "        text-align: right;\n",
              "    }\n",
              "</style>\n",
              "<table border=\"1\" class=\"dataframe\">\n",
              "  <thead>\n",
              "    <tr style=\"text-align: right;\">\n",
              "      <th></th>\n",
              "      <th>허가일자</th>\n",
              "      <th>상호</th>\n",
              "      <th>설비용량(KW)</th>\n",
              "      <th>설치장소</th>\n",
              "      <th>원동력종류</th>\n",
              "      <th>사업개시일</th>\n",
              "      <th>데이터기준일자</th>\n",
              "    </tr>\n",
              "  </thead>\n",
              "  <tbody>\n",
              "    <tr>\n",
              "      <th>1566</th>\n",
              "      <td>2007-02-21</td>\n",
              "      <td>제주에너지 주식회사</td>\n",
              "      <td>200.00</td>\n",
              "      <td>제주특별자치도 서귀포시 성산읍</td>\n",
              "      <td>태양광</td>\n",
              "      <td>2008-09-29</td>\n",
              "      <td>2022-11-16</td>\n",
              "    </tr>\n",
              "    <tr>\n",
              "      <th>1567</th>\n",
              "      <td>2007-02-21</td>\n",
              "      <td>제주에너지 주식회사</td>\n",
              "      <td>200.00</td>\n",
              "      <td>제주특별자치도 제주시 애월읍</td>\n",
              "      <td>태양광</td>\n",
              "      <td>2008-04-18</td>\n",
              "      <td>2022-11-16</td>\n",
              "    </tr>\n",
              "    <tr>\n",
              "      <th>1568</th>\n",
              "      <td>2007-01-05</td>\n",
              "      <td>민솔라에너지</td>\n",
              "      <td>90.72</td>\n",
              "      <td>제주특별자치도 제주시 조천읍</td>\n",
              "      <td>태양광</td>\n",
              "      <td>2007-04-04</td>\n",
              "      <td>2022-11-16</td>\n",
              "    </tr>\n",
              "    <tr>\n",
              "      <th>1569</th>\n",
              "      <td>2006-08-24</td>\n",
              "      <td>오복산전 3호</td>\n",
              "      <td>29.52</td>\n",
              "      <td>제주특별자치도 제주시 한경면</td>\n",
              "      <td>태양광</td>\n",
              "      <td>2006-09-25</td>\n",
              "      <td>2022-11-16</td>\n",
              "    </tr>\n",
              "    <tr>\n",
              "      <th>1570</th>\n",
              "      <td>2006-03-03</td>\n",
              "      <td>오복산전</td>\n",
              "      <td>59.87</td>\n",
              "      <td>제주특별자치도 제주시 한경면</td>\n",
              "      <td>태양광</td>\n",
              "      <td>2006-07-11</td>\n",
              "      <td>2022-11-16</td>\n",
              "    </tr>\n",
              "  </tbody>\n",
              "</table>\n",
              "</div>"
            ],
            "text/plain": [
              "            허가일자          상호  설비용량(KW)              설치장소 원동력종류       사업개시일  \\\n",
              "1566  2007-02-21  제주에너지 주식회사    200.00  제주특별자치도 서귀포시 성산읍   태양광  2008-09-29   \n",
              "1567  2007-02-21  제주에너지 주식회사    200.00   제주특별자치도 제주시 애월읍   태양광  2008-04-18   \n",
              "1568  2007-01-05      민솔라에너지     90.72   제주특별자치도 제주시 조천읍   태양광  2007-04-04   \n",
              "1569  2006-08-24     오복산전 3호     29.52   제주특별자치도 제주시 한경면   태양광  2006-09-25   \n",
              "1570  2006-03-03        오복산전     59.87   제주특별자치도 제주시 한경면   태양광  2006-07-11   \n",
              "\n",
              "         데이터기준일자  \n",
              "1566  2022-11-16  \n",
              "1567  2022-11-16  \n",
              "1568  2022-11-16  \n",
              "1569  2022-11-16  \n",
              "1570  2022-11-16  "
            ]
          },
          "execution_count": 22,
          "metadata": {},
          "output_type": "execute_result"
        }
      ],
      "source": [
        "df2.tail()"
      ]
    },
    {
      "cell_type": "code",
      "execution_count": 23,
      "metadata": {
        "colab": {
          "base_uri": "https://localhost:8080/"
        },
        "id": "_YyVprkbUuE7",
        "outputId": "21491343-2096-4e58-efe5-b6cdf9360d18"
      },
      "outputs": [
        {
          "data": {
            "text/plain": [
              "Index(['허가일자', '상호', '설비용량(KW)', '설치장소', '원동력종류', '사업개시일', '데이터기준일자'], dtype='object')"
            ]
          },
          "execution_count": 23,
          "metadata": {},
          "output_type": "execute_result"
        }
      ],
      "source": [
        "# 설비용량 총량 계산\n",
        "df2.columns"
      ]
    },
    {
      "cell_type": "code",
      "execution_count": 24,
      "metadata": {
        "colab": {
          "base_uri": "https://localhost:8080/"
        },
        "id": "fQzhCXv-WLZT",
        "outputId": "2422fb09-c528-40e9-bdcd-792092a0df49"
      },
      "outputs": [
        {
          "data": {
            "text/plain": [
              "509086.72"
            ]
          },
          "execution_count": 24,
          "metadata": {},
          "output_type": "execute_result"
        }
      ],
      "source": [
        "# 2022.11.16기준\n",
        "df2['설비용량(KW)'].sum()"
      ]
    },
    {
      "cell_type": "code",
      "execution_count": 25,
      "metadata": {
        "colab": {
          "base_uri": "https://localhost:8080/"
        },
        "id": "0XsWqUfbWSdC",
        "outputId": "e26558a2-a048-4679-df1c-111f5b9a3398"
      },
      "outputs": [
        {
          "name": "stdout",
          "output_type": "stream",
          "text": [
            "['제주특별자치도 제주시 구좌읍' '제주특별자치도 서귀포시 안덕면' '제주특별자치도 서귀포시 표선면'\n",
            " '제주특별자치도 서귀포시 성산읍' '제주특별자치도 서귀포시 법환동' '제주특별자치도 서귀포시 대정읍'\n",
            " '제주특별자치도 제주시 한림읍' '제주특별자치도 서귀포시 남원읍' '제주특별자치도 서귀포시 상예동'\n",
            " '제주특별자치도 서귀포시 회수동' '제주특별자치도 제주시 조천읍' '제주특별자치도 제주시 도남동' '제주특별자치도 제주시 애월읍'\n",
            " '제주특별자치도 서귀포시 토평동' '제주특별자치도 서귀포시 강정동' '제주특별자치도 서귀포시 중문동'\n",
            " '제주특별자치도 제주시 봉개동' '제주특별자치도 서귀포시 월평동' '제주특별자치도 제주시 용담이동'\n",
            " '제주특별자치도 제주시 일도이동' '제주특별자치도 제주시 회천동' '제주특별자치도 제주시 해안동' '제주특별자치도 서귀포시 호근동'\n",
            " '제주특별자치도 제주시 오라삼동' '제주특별자치도 제주시 한경면' '제주특별자치도 제주시 아라이동'\n",
            " '제주특별자치도 제주시 오라이동' '제주특별자치도 제주시 용강동' '제주특별자치도 제주시 외도일동'\n",
            " '제주특별자치도 제주시 삼양일동' '제주특별자치도 서귀포시 도순동' '제주특별자치도 서귀포시 상효동'\n",
            " '제주특별자치도 서귀포시 서홍동' '제주특별자치도 제주시 이도일동' '제주특별자치도 제주시 오등동'\n",
            " '제주특별자치도 서귀포시 서호동' '제주특별자치도 제주시 영평동' '제주특별자치도 서귀포시 동홍동'\n",
            " '제주특별자치도 서귀포시 하원동' '제주특별자치도 제주시 이호이동' '제주특별자치도 제주시 화북이동'\n",
            " '제주특별자치도 서귀포시 색달동' '제주특별자치도 서귀포시 서귀동' '제주특별자치도 제주시 도련이동'\n",
            " '제주특별자치도 제주시 오라일동' '제주특별자치도 서귀포시 하효동' '제주특별자치도 제주시 도평동'\n",
            " '제주특별자치도 서귀포시 하예동' '제주특별자치도 제주시 노형동' '제주특별자치도 제주시 삼도이동'\n",
            " '제주특별자치도 제주시 도련일동' '제주특별자치도 제주시 아라일동']\n",
            "52\n"
          ]
        }
      ],
      "source": [
        "print(df2['설치장소'].unique())\n",
        "print(df2['설치장소'].nunique())"
      ]
    },
    {
      "cell_type": "code",
      "execution_count": 26,
      "metadata": {
        "colab": {
          "base_uri": "https://localhost:8080/"
        },
        "id": "N6Hho0AUWmYt",
        "outputId": "f6df3d3c-6577-4534-8915-e24b67fb09d8"
      },
      "outputs": [
        {
          "data": {
            "text/plain": [
              "108352.51999999999"
            ]
          },
          "execution_count": 26,
          "metadata": {},
          "output_type": "execute_result"
        }
      ],
      "source": [
        "# 2021년 한 해에 새로 가동한 발전소들의 발전용량을 확인\n",
        "df_year21 = df2[(df2['사업개시일']>='2021-01-01')&(df2['사업개시일']<='2021-12-31')]\n",
        "df_year21['설비용량(KW)'].sum()"
      ]
    },
    {
      "cell_type": "code",
      "execution_count": 27,
      "metadata": {
        "colab": {
          "base_uri": "https://localhost:8080/"
        },
        "id": "Gk1uHoxHXZNu",
        "outputId": "34a18813-d42b-4092-b237-6c1031fdca85"
      },
      "outputs": [
        {
          "data": {
            "text/plain": [
              "509086.72"
            ]
          },
          "execution_count": 27,
          "metadata": {},
          "output_type": "execute_result"
        }
      ],
      "source": [
        "df2['설비용량(KW)'].sum()"
      ]
    },
    {
      "cell_type": "code",
      "execution_count": null,
      "metadata": {},
      "outputs": [],
      "source": [
        "import googlemaps\n",
        "from dotenv import load_dotenv\n",
        "import os\n",
        "\n",
        "load_dotenv()\n",
        "gmaps_key = os.getenv(\"GOOGLE_API_KEY\")\n",
        "\n",
        "gmaps = googlemaps.Client(key=gmaps_key)"
      ]
    }
  ],
  "metadata": {
    "colab": {
      "provenance": []
    },
    "kernelspec": {
      "display_name": "Walter",
      "language": "python",
      "name": "walter"
    },
    "language_info": {
      "codemirror_mode": {
        "name": "ipython",
        "version": 3
      },
      "file_extension": ".py",
      "mimetype": "text/x-python",
      "name": "python",
      "nbconvert_exporter": "python",
      "pygments_lexer": "ipython3",
      "version": "3.10.13"
    }
  },
  "nbformat": 4,
  "nbformat_minor": 0
}
