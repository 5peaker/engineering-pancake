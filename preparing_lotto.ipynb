{
 "cells": [
  {
   "cell_type": "code",
   "execution_count": 12,
   "metadata": {},
   "outputs": [],
   "source": [
    "import pandas as pd\n",
    "\n",
    "df = pd.read_csv(\"lotto_240309.csv\")\n",
    "df.drop(range(1101, 1500), inplace=True)\n",
    "\n",
    "# 2002년부터 2024년 1월 6일까지의 로또 번호를 저장한 파일 \n",
    "\n",
    "df['첫번째'] = df['첫번째'].astype(int)\n",
    "df['두번째'] = df['두번째'].astype(int)\n",
    "df['세번째'] = df['세번째'].astype(int)\n",
    "df['네번째'] = df['네번째'].astype(int)\n",
    "df['다섯번째'] = df['다섯번째'].astype(int)\n",
    "df['여섯번째'] = df['여섯번째'].astype(int)\n",
    "df['보너스'] = df['보너스'].astype(int)\n",
    "\n",
    "df.tail()\n",
    "df.to_csv(\"refined_lotto.csv\", index=False)"
   ]
  }
 ],
 "metadata": {
  "kernelspec": {
   "display_name": "Walter",
   "language": "python",
   "name": "walter"
  },
  "language_info": {
   "codemirror_mode": {
    "name": "ipython",
    "version": 3
   },
   "file_extension": ".py",
   "mimetype": "text/x-python",
   "name": "python",
   "nbconvert_exporter": "python",
   "pygments_lexer": "ipython3",
   "version": "3.10.13"
  }
 },
 "nbformat": 4,
 "nbformat_minor": 2
}
