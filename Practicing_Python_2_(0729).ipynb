{
  "cells": [
    {
      "cell_type": "code",
      "execution_count": null,
      "metadata": {
        "colab": {
          "base_uri": "https://localhost:8080/"
        },
        "id": "skQeGUojPUS2",
        "outputId": "7ebd2bdd-ca28-4333-d584-a8c4ef835ce3"
      },
      "outputs": [
        {
          "name": "stdout",
          "output_type": "stream",
          "text": [
            "/content\n",
            "['.config', 'medium.txt', 'test.txt', 'big.txt', 'small.txt', 'sample_data']\n",
            "===================================\n",
            "['medium', 'test', 'big', 'small']\n"
          ]
        }
      ],
      "source": [
        "# Python 리스트 기능 활용 예제\n",
        "# 현재 폴더의 파일 목록을 확인하고, txt 확장자 파일의 목록을 리스트로 출력\n",
        "\n",
        "import os\n",
        "\n",
        "print(os.getcwd())\n",
        "print(os.listdir())\n",
        "myList = os.listdir('.')\n",
        "\n",
        "!touch small.txt\n",
        "!touch big.txt\n",
        "!touch medium.txt\n",
        "\n",
        "q = len(myList)\n",
        "print(\"=\"*45)\n",
        "\n",
        "newList = []\n",
        "for i in range(q):\n",
        "  name = os.path.splitext(myList[i])\n",
        "  if name[1] == \".txt\":\n",
        "    newList.append(name[0])\n",
        "\n",
        "print(newList)"
      ]
    },
    {
      "cell_type": "code",
      "execution_count": null,
      "metadata": {
        "id": "ZAQr0MojsRP1"
      },
      "outputs": [],
      "source": [
        "# [과제1] 비어 있는 파일 30개를 생성하고, 이름은 무작위로 짓는다.\n",
        "\n",
        "from pathlib import Path\n",
        "import string, secrets\n",
        "\n",
        "# 입력받은 길이만큼의 무작위 이름 생성하는 함수\n",
        "def naming(size):\n",
        "  # letterset = string.ascii_lowercase+string.ascii_uppercase+string.digits\n",
        "  letterset = secrets.token_hex(size)\n",
        "  return \" \".join(secrets.choice(letterset) for i in range(size))\n",
        "\n",
        "for i in range(3):\n",
        "  filename = naming(10)\n",
        "  filepath = Path(filename)\n",
        "  filepath.touch()"
      ]
    },
    {
      "cell_type": "code",
      "execution_count": null,
      "metadata": {
        "colab": {
          "base_uri": "https://localhost:8080/"
        },
        "id": "VyrGUn_fw8LS",
        "outputId": "8779ce2a-76d3-4f60-f1dd-a30e511efaed"
      },
      "outputs": [
        {
          "name": "stdout",
          "output_type": "stream",
          "text": [
            "A1-File removed.\n",
            "A1-File removed.\n",
            "['a01afa22-cf1a-46cd-87fa-be9adf2a0766.txt', 'a3974fa6-3256-45ed-9595-6c3f2513108e.txt']\n"
          ]
        }
      ],
      "source": [
        "# [과제1]\n",
        "# 비어 있는 파일 30개를 생성하고, 현재 폴더 중 txt 파일의 개수를 출력한다.\n",
        "# 생성된 파일 중 파일명이 a로 시작하는 경우, 리스트를 별도로 저장하고 파일을 삭제한다.\n",
        "\n",
        "from pathlib import Path\n",
        "import uuid, os\n",
        "\n",
        "AList = []\n",
        "newList = []\n",
        "nm = int(0)\n",
        "cur_list = os.listdir(\".\")\n",
        "\n",
        "# 무작위로 고유한 식별기호를 가진 파일 생성하는 함수\n",
        "def naming(q):\n",
        "  for i in range(q):\n",
        "    filename = str(uuid.uuid4()) + \".txt\"\n",
        "    filepath = Path(filename)\n",
        "    filepath.touch()\n",
        "    if filename[0] == \"a\" or filename[0] == \"1\":\n",
        "      AList.append(filename)\n",
        "      os.remove(filename)\n",
        "      print(\"A1-File removed.\")\n",
        "\n",
        "# 이름을 바꾸는 함수\n",
        "def renaming():\n",
        "  check = 1\n",
        "  for filename in os.listdir():\n",
        "    if os.path.isfile(filename):\n",
        "      ext = os.path.splitext(filename)[1]\n",
        "      newname = f\"myFiles[{check}]{ext}\"\n",
        "      os.rename(filename, newname)\n",
        "      check += 1\n",
        "\n",
        "naming(30)\n",
        "\n",
        "for filename in cur_list:\n",
        "  splitname = os.path.splitext(filename)\n",
        "  if splitname[1] == \".txt\":\n",
        "    newList.append(filename)\n",
        "    nm += 1\n",
        "\n",
        "print(AList)\n",
        "renaming()"
      ]
    }
  ],
  "metadata": {
    "colab": {
      "provenance": []
    },
    "kernelspec": {
      "display_name": "Python 3",
      "name": "python3"
    },
    "language_info": {
      "name": "python"
    }
  },
  "nbformat": 4,
  "nbformat_minor": 0
}
