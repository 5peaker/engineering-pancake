{
  "nbformat": 4,
  "nbformat_minor": 0,
  "metadata": {
    "colab": {
      "provenance": [],
      "toc_visible": true
    },
    "kernelspec": {
      "name": "python3",
      "display_name": "Python 3"
    },
    "language_info": {
      "name": "python"
    }
  },
  "cells": [
    {
      "cell_type": "code",
      "source": [
        "import platform\n",
        "\n",
        "CurrentGoogle = platform.uname()\n",
        "print(CurrentGoogle)"
      ],
      "metadata": {
        "colab": {
          "base_uri": "https://localhost:8080/"
        },
        "id": "sevcOW06nZE6",
        "outputId": "7154c1e4-9747-41ef-884b-236d73fb4689"
      },
      "execution_count": null,
      "outputs": [
        {
          "output_type": "stream",
          "name": "stdout",
          "text": [
            "uname_result(system='Linux', node='994ed7ad4c48', release='6.1.85+', version='#1 SMP PREEMPT_DYNAMIC Thu Jun 27 21:05:47 UTC 2024', machine='x86_64')\n"
          ]
        }
      ]
    },
    {
      "cell_type": "code",
      "source": [
        "# 다이아몬드 모양 별을 출력하는 프로그램이에용.\n",
        "# 피라미드 모양 별과 역피라미드 모양 별을 하나씩 만들어 붙여용.\n",
        "\n",
        "while True:\n",
        "    try:\n",
        "        n = int(input(\"피라미드의 높이를 입력하세용: \"))\n",
        "        if n > 0:\n",
        "            break\n",
        "        else:\n",
        "            print(\"양의 정수로 입력해 주세용!.\")\n",
        "    except ValueError:\n",
        "        print(\"잘못된 입력입니다. 숫자를 입력해 주세용.\")\n",
        "\n",
        "print(\"출력함다.\\n\")\n",
        "\n",
        "for i in range(1, n + 1):\n",
        "    print(\" \" * (n - i), end=\"\")\n",
        "    print(\"*\" * (2 * i - 1))\n",
        "\n",
        "for i in range(n, -1, -1):\n",
        "  print(\" \" * (n - i), end=\"\")\n",
        "  print(\"*\" * (2 * i - 1))\n"
      ],
      "metadata": {
        "colab": {
          "base_uri": "https://localhost:8080/"
        },
        "id": "Cgs0XcuKemeb",
        "outputId": "4df27f7b-38c7-42eb-f111-a539ca02f4b4"
      },
      "execution_count": null,
      "outputs": [
        {
          "output_type": "stream",
          "name": "stdout",
          "text": [
            "피라미드의 높이를 입력하세용: 5\n",
            "출력함다.\n",
            "\n",
            "    *\n",
            "   ***\n",
            "  *****\n",
            " *******\n",
            "*********\n",
            "*********\n",
            " *******\n",
            "  *****\n",
            "   ***\n",
            "    *\n",
            "     \n"
          ]
        }
      ]
    },
    {
      "cell_type": "code",
      "source": [
        "# 안이 빈 역삼각형 만드는 문제.\n",
        "\n",
        "while True:\n",
        "    try:\n",
        "        n = int(input(\"삼각형의 높이를 입력하세용: \"))\n",
        "        if n > 0:\n",
        "            break\n",
        "        else:\n",
        "            print(\"양의 정수로 입력해 주세용!.\")\n",
        "    except ValueError:\n",
        "        print(\"잘못된 입력입니다. 숫자를 입력해 주세용.\")\n",
        "\n",
        "print(\"\")\n",
        "\n",
        "for i in range(1, n + 1):\n",
        "    print(\" \" * (n - i), end=\"\")\n",
        "    if i == 1:\n",
        "        print(\"*\" * (2 * i - 1))\n",
        "    else:\n",
        "        print(\"*\" + \" \" * (2 * i - 3) + \"*\")\n",
        "\n",
        "for i in range(n-1, 0, -1):\n",
        "    print(\" \" * (n - i), end=\"\") # 일반 삼각형 마지막 줄과의 중복을 피해 첫 줄을 제거\n",
        "    if i == 1:\n",
        "        print(\"*\" * (2 * i - 1))\n",
        "    else:\n",
        "        print(\"*\" + \" \" * (2 * i - 3) + \"*\")\n",
        "\n",
        "print(\"\\n출력을 완료했어용.\")"
      ],
      "metadata": {
        "colab": {
          "base_uri": "https://localhost:8080/"
        },
        "id": "kFF5Wb9VlcSM",
        "outputId": "a46a0115-8a9a-4a7a-9753-143e91f88349"
      },
      "execution_count": null,
      "outputs": [
        {
          "output_type": "stream",
          "name": "stdout",
          "text": [
            "삼각형의 높이를 입력하세용: 5\n",
            "\n",
            "    *\n",
            "   * *\n",
            "  *   *\n",
            " *     *\n",
            "*       *\n",
            " *     *\n",
            "  *   *\n",
            "   * *\n",
            "    *\n",
            "\n",
            "출력을 완료했어용.\n"
          ]
        }
      ]
    },
    {
      "cell_type": "code",
      "source": [
        "# 구구단 문제 (구구단 작성 후 자릿수 정렬하기)\n",
        "\n",
        "# 오른쪽 정렬, 자릿수 두 자리 확보\n",
        "# 각 단 사이에는 Tab 1개(스페이스 4개) 사이의 간격 필요\n",
        "\n",
        "def make_gugu(num):\n",
        "  print()\n",
        "  for i in range(2,10): # 곱하는 수는 2부터 9까지\n",
        "    for j in range(2,num+1): # 곱해지는 수는 2부터 num까지\n",
        "      print(f\"{j} x {i} = {j*i:>3}\\t\", end=\"\")\n",
        "    print()\n",
        "\n",
        "while True:\n",
        "    try:\n",
        "        n = int(input(\"몇 단까지 출력할까용: \"))\n",
        "        if n > 0:\n",
        "            break\n",
        "        else:\n",
        "            print(\"양의 정수로 입력해 주세용!.\")\n",
        "    except ValueError:\n",
        "        print(\"잘못된 입력입니다. 숫자를 입력해 주세용.\")\n",
        "\n",
        "make_gugu(n)\n"
      ],
      "metadata": {
        "colab": {
          "base_uri": "https://localhost:8080/"
        },
        "id": "FfWQBR2oiQVZ",
        "outputId": "6dda7892-69cc-446c-fdbe-6ae6bed29ec3"
      },
      "execution_count": null,
      "outputs": [
        {
          "output_type": "stream",
          "name": "stdout",
          "text": [
            "몇 단까지 출력할까용: 7\n",
            "\n",
            "2 x 2 =   4\t3 x 2 =   6\t4 x 2 =   8\t5 x 2 =  10\t6 x 2 =  12\t7 x 2 =  14\t\n",
            "2 x 3 =   6\t3 x 3 =   9\t4 x 3 =  12\t5 x 3 =  15\t6 x 3 =  18\t7 x 3 =  21\t\n",
            "2 x 4 =   8\t3 x 4 =  12\t4 x 4 =  16\t5 x 4 =  20\t6 x 4 =  24\t7 x 4 =  28\t\n",
            "2 x 5 =  10\t3 x 5 =  15\t4 x 5 =  20\t5 x 5 =  25\t6 x 5 =  30\t7 x 5 =  35\t\n",
            "2 x 6 =  12\t3 x 6 =  18\t4 x 6 =  24\t5 x 6 =  30\t6 x 6 =  36\t7 x 6 =  42\t\n",
            "2 x 7 =  14\t3 x 7 =  21\t4 x 7 =  28\t5 x 7 =  35\t6 x 7 =  42\t7 x 7 =  49\t\n",
            "2 x 8 =  16\t3 x 8 =  24\t4 x 8 =  32\t5 x 8 =  40\t6 x 8 =  48\t7 x 8 =  56\t\n",
            "2 x 9 =  18\t3 x 9 =  27\t4 x 9 =  36\t5 x 9 =  45\t6 x 9 =  54\t7 x 9 =  63\t\n"
          ]
        }
      ]
    }
  ]
}